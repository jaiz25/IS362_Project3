{
 "cells": [
  {
   "cell_type": "markdown",
   "metadata": {},
   "source": [
    "# IS362 Project 4\n",
    "\n",
    "## Project – Predictive Analysis using scikit-learn\n",
    "\n",
    "Your assignment is to:\n",
    "\n",
    "• Start with the mushroom data in the pandas DataFrame that you constructed in your “Assignment –\n",
    "Preprocessing Data with sci-kit learn.”\n",
    "\n",
    "• Use scikit-learn to determine which of the two predictor columns that you selected (odor and one\n",
    "other column of your choice) most accurately predicts whether or not a mushroom is poisonous. There is\n",
    "an additional challenge here—to use scikit-learn’s predictive classifiers, you’ll want to convert each of\n",
    "your two (numeric categorical) predictor columns into a set of columns. See for one approach pandas\n",
    "get_dummies() method.\n",
    "\n",
    "• Clearly state your conclusions along with any recommendations for further analysis."
   ]
  },
  {
   "cell_type": "code",
   "execution_count": 100,
   "metadata": {
    "collapsed": true
   },
   "outputs": [],
   "source": [
    "import pandas as pd\n",
    "from sklearn.linear_model import LogisticRegression\n",
    "from sklearn import metrics"
   ]
  },
  {
   "cell_type": "code",
   "execution_count": 101,
   "metadata": {},
   "outputs": [
    {
     "data": {
      "text/html": [
       "<div>\n",
       "<style>\n",
       "    .dataframe thead tr:only-child th {\n",
       "        text-align: right;\n",
       "    }\n",
       "\n",
       "    .dataframe thead th {\n",
       "        text-align: left;\n",
       "    }\n",
       "\n",
       "    .dataframe tbody tr th {\n",
       "        vertical-align: top;\n",
       "    }\n",
       "</style>\n",
       "<table border=\"1\" class=\"dataframe\">\n",
       "  <thead>\n",
       "    <tr style=\"text-align: right;\">\n",
       "      <th></th>\n",
       "      <th>0</th>\n",
       "      <th>1</th>\n",
       "      <th>2</th>\n",
       "      <th>3</th>\n",
       "      <th>4</th>\n",
       "      <th>5</th>\n",
       "      <th>6</th>\n",
       "      <th>7</th>\n",
       "      <th>8</th>\n",
       "      <th>9</th>\n",
       "      <th>...</th>\n",
       "      <th>13</th>\n",
       "      <th>14</th>\n",
       "      <th>15</th>\n",
       "      <th>16</th>\n",
       "      <th>17</th>\n",
       "      <th>18</th>\n",
       "      <th>19</th>\n",
       "      <th>20</th>\n",
       "      <th>21</th>\n",
       "      <th>22</th>\n",
       "    </tr>\n",
       "  </thead>\n",
       "  <tbody>\n",
       "    <tr>\n",
       "      <th>0</th>\n",
       "      <td>p</td>\n",
       "      <td>x</td>\n",
       "      <td>s</td>\n",
       "      <td>n</td>\n",
       "      <td>t</td>\n",
       "      <td>p</td>\n",
       "      <td>f</td>\n",
       "      <td>c</td>\n",
       "      <td>n</td>\n",
       "      <td>k</td>\n",
       "      <td>...</td>\n",
       "      <td>s</td>\n",
       "      <td>w</td>\n",
       "      <td>w</td>\n",
       "      <td>p</td>\n",
       "      <td>w</td>\n",
       "      <td>o</td>\n",
       "      <td>p</td>\n",
       "      <td>k</td>\n",
       "      <td>s</td>\n",
       "      <td>u</td>\n",
       "    </tr>\n",
       "    <tr>\n",
       "      <th>1</th>\n",
       "      <td>e</td>\n",
       "      <td>x</td>\n",
       "      <td>s</td>\n",
       "      <td>y</td>\n",
       "      <td>t</td>\n",
       "      <td>a</td>\n",
       "      <td>f</td>\n",
       "      <td>c</td>\n",
       "      <td>b</td>\n",
       "      <td>k</td>\n",
       "      <td>...</td>\n",
       "      <td>s</td>\n",
       "      <td>w</td>\n",
       "      <td>w</td>\n",
       "      <td>p</td>\n",
       "      <td>w</td>\n",
       "      <td>o</td>\n",
       "      <td>p</td>\n",
       "      <td>n</td>\n",
       "      <td>n</td>\n",
       "      <td>g</td>\n",
       "    </tr>\n",
       "    <tr>\n",
       "      <th>2</th>\n",
       "      <td>e</td>\n",
       "      <td>b</td>\n",
       "      <td>s</td>\n",
       "      <td>w</td>\n",
       "      <td>t</td>\n",
       "      <td>l</td>\n",
       "      <td>f</td>\n",
       "      <td>c</td>\n",
       "      <td>b</td>\n",
       "      <td>n</td>\n",
       "      <td>...</td>\n",
       "      <td>s</td>\n",
       "      <td>w</td>\n",
       "      <td>w</td>\n",
       "      <td>p</td>\n",
       "      <td>w</td>\n",
       "      <td>o</td>\n",
       "      <td>p</td>\n",
       "      <td>n</td>\n",
       "      <td>n</td>\n",
       "      <td>m</td>\n",
       "    </tr>\n",
       "    <tr>\n",
       "      <th>3</th>\n",
       "      <td>p</td>\n",
       "      <td>x</td>\n",
       "      <td>y</td>\n",
       "      <td>w</td>\n",
       "      <td>t</td>\n",
       "      <td>p</td>\n",
       "      <td>f</td>\n",
       "      <td>c</td>\n",
       "      <td>n</td>\n",
       "      <td>n</td>\n",
       "      <td>...</td>\n",
       "      <td>s</td>\n",
       "      <td>w</td>\n",
       "      <td>w</td>\n",
       "      <td>p</td>\n",
       "      <td>w</td>\n",
       "      <td>o</td>\n",
       "      <td>p</td>\n",
       "      <td>k</td>\n",
       "      <td>s</td>\n",
       "      <td>u</td>\n",
       "    </tr>\n",
       "    <tr>\n",
       "      <th>4</th>\n",
       "      <td>e</td>\n",
       "      <td>x</td>\n",
       "      <td>s</td>\n",
       "      <td>g</td>\n",
       "      <td>f</td>\n",
       "      <td>n</td>\n",
       "      <td>f</td>\n",
       "      <td>w</td>\n",
       "      <td>b</td>\n",
       "      <td>k</td>\n",
       "      <td>...</td>\n",
       "      <td>s</td>\n",
       "      <td>w</td>\n",
       "      <td>w</td>\n",
       "      <td>p</td>\n",
       "      <td>w</td>\n",
       "      <td>o</td>\n",
       "      <td>e</td>\n",
       "      <td>n</td>\n",
       "      <td>a</td>\n",
       "      <td>g</td>\n",
       "    </tr>\n",
       "  </tbody>\n",
       "</table>\n",
       "<p>5 rows × 23 columns</p>\n",
       "</div>"
      ],
      "text/plain": [
       "  0  1  2  3  4  5  6  7  8  9  ... 13 14 15 16 17 18 19 20 21 22\n",
       "0  p  x  s  n  t  p  f  c  n  k ...  s  w  w  p  w  o  p  k  s  u\n",
       "1  e  x  s  y  t  a  f  c  b  k ...  s  w  w  p  w  o  p  n  n  g\n",
       "2  e  b  s  w  t  l  f  c  b  n ...  s  w  w  p  w  o  p  n  n  m\n",
       "3  p  x  y  w  t  p  f  c  n  n ...  s  w  w  p  w  o  p  k  s  u\n",
       "4  e  x  s  g  f  n  f  w  b  k ...  s  w  w  p  w  o  e  n  a  g\n",
       "\n",
       "[5 rows x 23 columns]"
      ]
     },
     "execution_count": 101,
     "metadata": {},
     "output_type": "execute_result"
    }
   ],
   "source": [
    "df = pd.read_csv('https://archive.ics.uci.edu/ml/machine-learning-databases/mushroom/agaricus-lepiota.data', header=None)\n",
    "df.head()"
   ]
  },
  {
   "cell_type": "code",
   "execution_count": 102,
   "metadata": {
    "collapsed": true
   },
   "outputs": [],
   "source": [
    "df.drop(df.columns[[1, 2, 4, 6, 7, 8, 9, 10, 11, 12, 13,\n",
    "                    14, 15, 16, 17, 18, 19, 20, 21, 22]], axis=1, inplace=True)"
   ]
  },
  {
   "cell_type": "code",
   "execution_count": 103,
   "metadata": {
    "collapsed": true
   },
   "outputs": [],
   "source": [
    "df.rename(columns = {0: 'Class', 3: 'Color', 5: 'Odor'}, inplace=True)"
   ]
  },
  {
   "cell_type": "markdown",
   "metadata": {},
   "source": [
    "### Replacing Class Column with Numeric Values\n",
    " \n",
    " edible = e = 0\n",
    " \n",
    " poisonous = p = 1"
   ]
  },
  {
   "cell_type": "code",
   "execution_count": 104,
   "metadata": {
    "collapsed": true
   },
   "outputs": [],
   "source": [
    "df['Class'].replace('e', 0, inplace=True)"
   ]
  },
  {
   "cell_type": "code",
   "execution_count": 105,
   "metadata": {
    "collapsed": true
   },
   "outputs": [],
   "source": [
    "df['Class'].replace('p', 1, inplace=True)"
   ]
  },
  {
   "cell_type": "markdown",
   "metadata": {},
   "source": [
    "### Replacing Color Column with Numeric Values\n",
    "\n",
    "brown = n = 0\n",
    "\n",
    "buff = b = 1\n",
    "\n",
    "cinnamon = c = 2\n",
    "\n",
    "gray = g = 3\n",
    "\n",
    "green = r = 4\n",
    "\n",
    "pink = p = 5\n",
    "\n",
    "purple = u = 6\n",
    "\n",
    "red = e = 7\n",
    "\n",
    "white = w = 8\n",
    "\n",
    "yellow = y = 9"
   ]
  },
  {
   "cell_type": "code",
   "execution_count": 106,
   "metadata": {
    "collapsed": true
   },
   "outputs": [],
   "source": [
    "df.replace({'Color' : {'n' : 0, 'b' : 1, 'c' : 2, 'g' : 3, 'r' : 4,\n",
    "                       'p' : 5, 'u' : 6, 'e' : 7, 'w' : 8, 'y' : 9}}, inplace=True)"
   ]
  },
  {
   "cell_type": "markdown",
   "metadata": {},
   "source": [
    "### Replacing Odor Column with Numeric Values\n",
    "\n",
    "almond = a = 1\n",
    "\n",
    "anise = l = 2\n",
    "\n",
    "creosote = c = 3\n",
    "\n",
    "fishy = y = 4\n",
    "\n",
    "foul = f = 5\n",
    "\n",
    "musty = m = 6\n",
    "\n",
    "none = n = 0\n",
    "\n",
    "pungent = p = 7\n",
    "\n",
    "spicy = s = 8\n"
   ]
  },
  {
   "cell_type": "code",
   "execution_count": 107,
   "metadata": {
    "collapsed": true
   },
   "outputs": [],
   "source": [
    "df.replace({'Odor' : {'a' : 1, 'l' : 2, 'c' : 3, 'y' : 4, 'f' : 5,\n",
    "                      'm' : 6, 'n' : 0, 'p' : 7, 's' : 8}}, inplace=True)"
   ]
  },
  {
   "cell_type": "code",
   "execution_count": 120,
   "metadata": {
    "collapsed": true
   },
   "outputs": [],
   "source": [
    "X_color = pd.get_dummies(df['Color'])"
   ]
  },
  {
   "cell_type": "code",
   "execution_count": 121,
   "metadata": {
    "collapsed": true
   },
   "outputs": [],
   "source": [
    "y = df['Class']"
   ]
  },
  {
   "cell_type": "code",
   "execution_count": 122,
   "metadata": {},
   "outputs": [
    {
     "name": "stdout",
     "output_type": "stream",
     "text": [
      "      0  1  2  3  4  5  6  7  8  9\n",
      "0     1  0  0  0  0  0  0  0  0  0\n",
      "1     0  0  0  0  0  0  0  0  0  1\n",
      "2     0  0  0  0  0  0  0  0  1  0\n",
      "3     0  0  0  0  0  0  0  0  1  0\n",
      "4     0  0  0  1  0  0  0  0  0  0\n",
      "5     0  0  0  0  0  0  0  0  0  1\n",
      "6     0  0  0  0  0  0  0  0  1  0\n",
      "7     0  0  0  0  0  0  0  0  1  0\n",
      "8     0  0  0  0  0  0  0  0  1  0\n",
      "9     0  0  0  0  0  0  0  0  0  1\n",
      "10    0  0  0  0  0  0  0  0  0  1\n",
      "11    0  0  0  0  0  0  0  0  0  1\n",
      "12    0  0  0  0  0  0  0  0  0  1\n",
      "13    0  0  0  0  0  0  0  0  1  0\n",
      "14    1  0  0  0  0  0  0  0  0  0\n",
      "15    0  0  0  1  0  0  0  0  0  0\n",
      "16    0  0  0  0  0  0  0  0  1  0\n",
      "17    1  0  0  0  0  0  0  0  0  0\n",
      "18    0  0  0  0  0  0  0  0  1  0\n",
      "19    1  0  0  0  0  0  0  0  0  0\n",
      "20    0  0  0  0  0  0  0  0  0  1\n",
      "21    1  0  0  0  0  0  0  0  0  0\n",
      "22    0  0  0  0  0  0  0  0  0  1\n",
      "23    0  0  0  0  0  0  0  0  1  0\n",
      "24    0  0  0  0  0  0  0  0  1  0\n",
      "25    0  0  0  0  0  0  0  0  1  0\n",
      "26    0  0  0  0  0  0  0  0  0  1\n",
      "27    0  0  0  0  0  0  0  0  1  0\n",
      "28    1  0  0  0  0  0  0  0  0  0\n",
      "29    0  0  0  0  0  0  0  0  0  1\n",
      "...  .. .. .. .. .. .. .. .. .. ..\n",
      "8094  0  0  0  1  0  0  0  0  0  0\n",
      "8095  0  0  1  0  0  0  0  0  0  0\n",
      "8096  0  0  0  0  0  0  0  0  1  0\n",
      "8097  1  0  0  0  0  0  0  0  0  0\n",
      "8098  0  0  0  0  0  0  0  1  0  0\n",
      "8099  0  0  0  0  0  0  0  0  1  0\n",
      "8100  1  0  0  0  0  0  0  0  0  0\n",
      "8101  0  0  0  0  0  0  0  1  0  0\n",
      "8102  1  0  0  0  0  0  0  0  0  0\n",
      "8103  1  0  0  0  0  0  0  0  0  0\n",
      "8104  1  0  0  0  0  0  0  0  0  0\n",
      "8105  1  0  0  0  0  0  0  0  0  0\n",
      "8106  1  0  0  0  0  0  0  0  0  0\n",
      "8107  1  0  0  0  0  0  0  0  0  0\n",
      "8108  0  0  0  0  0  0  0  1  0  0\n",
      "8109  0  0  0  0  0  0  0  0  1  0\n",
      "8110  1  0  0  0  0  0  0  0  0  0\n",
      "8111  0  0  0  0  0  0  0  0  1  0\n",
      "8112  1  0  0  0  0  0  0  0  0  0\n",
      "8113  0  0  0  0  0  0  0  1  0  0\n",
      "8114  0  0  1  0  0  0  0  0  0  0\n",
      "8115  1  0  0  0  0  0  0  0  0  0\n",
      "8116  1  0  0  0  0  0  0  0  0  0\n",
      "8117  0  0  0  0  0  0  0  1  0  0\n",
      "8118  1  0  0  0  0  0  0  0  0  0\n",
      "8119  1  0  0  0  0  0  0  0  0  0\n",
      "8120  1  0  0  0  0  0  0  0  0  0\n",
      "8121  1  0  0  0  0  0  0  0  0  0\n",
      "8122  1  0  0  0  0  0  0  0  0  0\n",
      "8123  1  0  0  0  0  0  0  0  0  0\n",
      "\n",
      "[8124 rows x 10 columns]\n"
     ]
    }
   ],
   "source": [
    "print(X_color)"
   ]
  },
  {
   "cell_type": "code",
   "execution_count": 123,
   "metadata": {},
   "outputs": [
    {
     "data": {
      "text/plain": [
       "array([0, 1, 0, ..., 0, 0, 0], dtype=int64)"
      ]
     },
     "execution_count": 123,
     "metadata": {},
     "output_type": "execute_result"
    }
   ],
   "source": [
    "logreg = LogisticRegression()\n",
    "logreg.fit(X_color, y)\n",
    "logreg.predict(X_color)"
   ]
  },
  {
   "cell_type": "code",
   "execution_count": 124,
   "metadata": {
    "collapsed": true
   },
   "outputs": [],
   "source": [
    "y_pred = logreg.predict(X_color)"
   ]
  },
  {
   "cell_type": "code",
   "execution_count": 125,
   "metadata": {},
   "outputs": [
    {
     "data": {
      "text/plain": [
       "8124"
      ]
     },
     "execution_count": 125,
     "metadata": {},
     "output_type": "execute_result"
    }
   ],
   "source": [
    "len(y_pred)"
   ]
  },
  {
   "cell_type": "code",
   "execution_count": 112,
   "metadata": {},
   "outputs": [
    {
     "name": "stdout",
     "output_type": "stream",
     "text": [
      "      0  1  2  3  4  5  6  7  8\n",
      "0     0  0  0  0  0  0  0  1  0\n",
      "1     0  1  0  0  0  0  0  0  0\n",
      "2     0  0  1  0  0  0  0  0  0\n",
      "3     0  0  0  0  0  0  0  1  0\n",
      "4     1  0  0  0  0  0  0  0  0\n",
      "5     0  1  0  0  0  0  0  0  0\n",
      "6     0  1  0  0  0  0  0  0  0\n",
      "7     0  0  1  0  0  0  0  0  0\n",
      "8     0  0  0  0  0  0  0  1  0\n",
      "9     0  1  0  0  0  0  0  0  0\n",
      "10    0  0  1  0  0  0  0  0  0\n",
      "11    0  1  0  0  0  0  0  0  0\n",
      "12    0  1  0  0  0  0  0  0  0\n",
      "13    0  0  0  0  0  0  0  1  0\n",
      "14    1  0  0  0  0  0  0  0  0\n",
      "15    1  0  0  0  0  0  0  0  0\n",
      "16    1  0  0  0  0  0  0  0  0\n",
      "17    0  0  0  0  0  0  0  1  0\n",
      "18    0  0  0  0  0  0  0  1  0\n",
      "19    0  0  0  0  0  0  0  1  0\n",
      "20    0  1  0  0  0  0  0  0  0\n",
      "21    0  0  0  0  0  0  0  1  0\n",
      "22    0  0  1  0  0  0  0  0  0\n",
      "23    0  1  0  0  0  0  0  0  0\n",
      "24    0  0  1  0  0  0  0  0  0\n",
      "25    0  0  0  0  0  0  0  1  0\n",
      "26    0  1  0  0  0  0  0  0  0\n",
      "27    0  0  1  0  0  0  0  0  0\n",
      "28    1  0  0  0  0  0  0  0  0\n",
      "29    0  1  0  0  0  0  0  0  0\n",
      "...  .. .. .. .. .. .. .. .. ..\n",
      "8094  1  0  0  0  0  0  0  0  0\n",
      "8095  0  0  0  0  0  0  1  0  0\n",
      "8096  1  0  0  0  0  0  0  0  0\n",
      "8097  0  0  0  0  0  0  0  0  1\n",
      "8098  0  0  0  0  1  0  0  0  0\n",
      "8099  1  0  0  0  0  0  0  0  0\n",
      "8100  1  0  0  0  0  0  0  0  0\n",
      "8101  0  0  0  0  0  0  0  0  1\n",
      "8102  1  0  0  0  0  0  0  0  0\n",
      "8103  1  0  0  0  0  0  0  0  0\n",
      "8104  1  0  0  0  0  0  0  0  0\n",
      "8105  1  0  0  0  0  0  0  0  0\n",
      "8106  1  0  0  0  0  0  0  0  0\n",
      "8107  1  0  0  0  0  0  0  0  0\n",
      "8108  0  0  0  0  1  0  0  0  0\n",
      "8109  1  0  0  0  0  0  0  0  0\n",
      "8110  1  0  0  0  0  0  0  0  0\n",
      "8111  1  0  0  0  0  0  0  0  0\n",
      "8112  1  0  0  0  0  0  0  0  0\n",
      "8113  0  0  0  0  1  0  0  0  0\n",
      "8114  0  0  0  0  0  0  1  0  0\n",
      "8115  1  0  0  0  0  0  0  0  0\n",
      "8116  0  0  0  0  0  0  0  0  1\n",
      "8117  0  0  0  0  1  0  0  0  0\n",
      "8118  0  0  0  0  0  1  0  0  0\n",
      "8119  1  0  0  0  0  0  0  0  0\n",
      "8120  1  0  0  0  0  0  0  0  0\n",
      "8121  1  0  0  0  0  0  0  0  0\n",
      "8122  0  0  0  0  1  0  0  0  0\n",
      "8123  1  0  0  0  0  0  0  0  0\n",
      "\n",
      "[8124 rows x 9 columns]\n"
     ]
    }
   ],
   "source": [
    "X_odor = pd.get_dummies(df['Odor'])\n",
    "print(X_odor)"
   ]
  },
  {
   "cell_type": "code",
   "execution_count": 127,
   "metadata": {},
   "outputs": [
    {
     "data": {
      "text/plain": [
       "array([1, 0, 0, ..., 0, 1, 0], dtype=int64)"
      ]
     },
     "execution_count": 127,
     "metadata": {},
     "output_type": "execute_result"
    }
   ],
   "source": [
    "logreg.fit(X_odor, y)\n",
    "logreg.predict(X_odor)"
   ]
  },
  {
   "cell_type": "code",
   "execution_count": 128,
   "metadata": {
    "collapsed": true
   },
   "outputs": [],
   "source": [
    "y_pred2 = logreg.predict(X_odor)"
   ]
  },
  {
   "cell_type": "code",
   "execution_count": 129,
   "metadata": {},
   "outputs": [
    {
     "data": {
      "text/plain": [
       "8124"
      ]
     },
     "execution_count": 129,
     "metadata": {},
     "output_type": "execute_result"
    }
   ],
   "source": [
    "len(y_pred2)"
   ]
  },
  {
   "cell_type": "markdown",
   "metadata": {},
   "source": [
    "### Compute classification accuracy for the logistic regression model"
   ]
  },
  {
   "cell_type": "markdown",
   "metadata": {},
   "source": [
    "**COLOR**"
   ]
  },
  {
   "cell_type": "code",
   "execution_count": 130,
   "metadata": {},
   "outputs": [
    {
     "name": "stdout",
     "output_type": "stream",
     "text": [
      "0.595273264402\n"
     ]
    }
   ],
   "source": [
    "print(metrics.accuracy_score(y, y_pred))"
   ]
  },
  {
   "cell_type": "markdown",
   "metadata": {},
   "source": [
    "**ODOR**"
   ]
  },
  {
   "cell_type": "code",
   "execution_count": 131,
   "metadata": {},
   "outputs": [
    {
     "name": "stdout",
     "output_type": "stream",
     "text": [
      "0.985228951256\n"
     ]
    }
   ],
   "source": [
    "print(metrics.accuracy_score(y, y_pred2))"
   ]
  },
  {
   "cell_type": "markdown",
   "metadata": {},
   "source": [
    "## Conclusion"
   ]
  },
  {
   "cell_type": "markdown",
   "metadata": {},
   "source": [
    "The two predictor columns I used were color and odor to find out which of the two most accurately predicts whether or not a mushroom is poisonous.  Based on the accuracy score, the odor column high has higher rate of 0.98 compared to color with a rate of 0.59.  Therefore, odor is a better predictor whether or not a mushroom is poisonous."
   ]
  }
 ],
 "metadata": {
  "kernelspec": {
   "display_name": "Python 3",
   "language": "python",
   "name": "python3"
  },
  "language_info": {
   "codemirror_mode": {
    "name": "ipython",
    "version": 3
   },
   "file_extension": ".py",
   "mimetype": "text/x-python",
   "name": "python",
   "nbconvert_exporter": "python",
   "pygments_lexer": "ipython3",
   "version": "3.6.3"
  }
 },
 "nbformat": 4,
 "nbformat_minor": 2
}
